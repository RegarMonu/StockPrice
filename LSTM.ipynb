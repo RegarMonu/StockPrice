{
  "cells": [
    {
      "cell_type": "markdown",
      "metadata": {
        "id": "view-in-github",
        "colab_type": "text"
      },
      "source": [
        "<a href=\"https://colab.research.google.com/github/RegarMonu/StockPrice/blob/main/LSTM.ipynb\" target=\"_parent\"><img src=\"https://colab.research.google.com/assets/colab-badge.svg\" alt=\"Open In Colab\"/></a>"
      ]
    },
    {
      "cell_type": "code",
      "execution_count": null,
      "metadata": {
        "id": "WyG07dlrp1OM"
      },
      "outputs": [],
      "source": [
        "import pandas as pd\n",
        "import numpy as np\n",
        "# from sklearn.metrics import accuracy"
      ]
    },
    {
      "cell_type": "code",
      "execution_count": null,
      "metadata": {
        "colab": {
          "base_uri": "https://localhost:8080/"
        },
        "id": "ov3o0-Xup7jF",
        "outputId": "71e7752c-9252-42cf-9cdb-f9e23edfb5f6"
      },
      "outputs": [
        {
          "name": "stdout",
          "output_type": "stream",
          "text": [
            "Requirement already satisfied: yfinance in /usr/local/lib/python3.10/dist-packages (0.2.36)\n",
            "Requirement already satisfied: pandas>=1.3.0 in /usr/local/lib/python3.10/dist-packages (from yfinance) (1.5.3)\n",
            "Requirement already satisfied: numpy>=1.16.5 in /usr/local/lib/python3.10/dist-packages (from yfinance) (1.23.5)\n",
            "Requirement already satisfied: requests>=2.31 in /usr/local/lib/python3.10/dist-packages (from yfinance) (2.31.0)\n",
            "Requirement already satisfied: multitasking>=0.0.7 in /usr/local/lib/python3.10/dist-packages (from yfinance) (0.0.11)\n",
            "Requirement already satisfied: lxml>=4.9.1 in /usr/local/lib/python3.10/dist-packages (from yfinance) (4.9.4)\n",
            "Requirement already satisfied: appdirs>=1.4.4 in /usr/local/lib/python3.10/dist-packages (from yfinance) (1.4.4)\n",
            "Requirement already satisfied: pytz>=2022.5 in /usr/local/lib/python3.10/dist-packages (from yfinance) (2023.4)\n",
            "Requirement already satisfied: frozendict>=2.3.4 in /usr/local/lib/python3.10/dist-packages (from yfinance) (2.4.0)\n",
            "Requirement already satisfied: peewee>=3.16.2 in /usr/local/lib/python3.10/dist-packages (from yfinance) (3.17.1)\n",
            "Requirement already satisfied: beautifulsoup4>=4.11.1 in /usr/local/lib/python3.10/dist-packages (from yfinance) (4.12.3)\n",
            "Requirement already satisfied: html5lib>=1.1 in /usr/local/lib/python3.10/dist-packages (from yfinance) (1.1)\n",
            "Requirement already satisfied: soupsieve>1.2 in /usr/local/lib/python3.10/dist-packages (from beautifulsoup4>=4.11.1->yfinance) (2.5)\n",
            "Requirement already satisfied: six>=1.9 in /usr/local/lib/python3.10/dist-packages (from html5lib>=1.1->yfinance) (1.16.0)\n",
            "Requirement already satisfied: webencodings in /usr/local/lib/python3.10/dist-packages (from html5lib>=1.1->yfinance) (0.5.1)\n",
            "Requirement already satisfied: python-dateutil>=2.8.1 in /usr/local/lib/python3.10/dist-packages (from pandas>=1.3.0->yfinance) (2.8.2)\n",
            "Requirement already satisfied: charset-normalizer<4,>=2 in /usr/local/lib/python3.10/dist-packages (from requests>=2.31->yfinance) (3.3.2)\n",
            "Requirement already satisfied: idna<4,>=2.5 in /usr/local/lib/python3.10/dist-packages (from requests>=2.31->yfinance) (3.6)\n",
            "Requirement already satisfied: urllib3<3,>=1.21.1 in /usr/local/lib/python3.10/dist-packages (from requests>=2.31->yfinance) (2.0.7)\n",
            "Requirement already satisfied: certifi>=2017.4.17 in /usr/local/lib/python3.10/dist-packages (from requests>=2.31->yfinance) (2024.2.2)\n"
          ]
        }
      ],
      "source": [
        "!pip install yfinance"
      ]
    },
    {
      "cell_type": "code",
      "execution_count": null,
      "metadata": {
        "id": "EoNT0GBoqJJo",
        "colab": {
          "base_uri": "https://localhost:8080/"
        },
        "outputId": "a3449e18-19f3-4e4f-9abd-3de1ec76b756"
      },
      "outputs": [
        {
          "output_type": "stream",
          "name": "stderr",
          "text": [
            "/usr/local/lib/python3.10/dist-packages/yfinance/base.py:48: FutureWarning: The default dtype for empty Series will be 'object' instead of 'float64' in a future version. Specify a dtype explicitly to silence this warning.\n",
            "  _empty_series = pd.Series()\n"
          ]
        }
      ],
      "source": [
        "import yfinance as yf\n",
        "\n",
        "msft = yf.Ticker(\"AAPL\")\n"
      ]
    },
    {
      "cell_type": "code",
      "execution_count": null,
      "metadata": {
        "colab": {
          "base_uri": "https://localhost:8080/"
        },
        "id": "yPeggnNIqQEE",
        "outputId": "c8f87792-e5a4-455a-9293-ba2e4b978f39"
      },
      "outputs": [
        {
          "output_type": "execute_result",
          "data": {
            "text/plain": [
              "(10881, 7)"
            ]
          },
          "metadata": {},
          "execution_count": 3
        }
      ],
      "source": [
        "df=msft.history(period='max')\n",
        "df.shape"
      ]
    },
    {
      "cell_type": "code",
      "execution_count": null,
      "metadata": {
        "id": "tDRhTUdkqakz",
        "colab": {
          "base_uri": "https://localhost:8080/",
          "height": 1000
        },
        "outputId": "d45e1a16-bed8-487f-f92c-2af168ecca0c"
      },
      "outputs": [
        {
          "output_type": "execute_result",
          "data": {
            "text/plain": [
              "                                 Open        High         Low       Close  \\\n",
              "Date                                                                        \n",
              "1980-12-12 00:00:00-05:00    0.099192    0.099623    0.099192    0.099192   \n",
              "1980-12-15 00:00:00-05:00    0.094448    0.094448    0.094017    0.094017   \n",
              "1980-12-16 00:00:00-05:00    0.087548    0.087548    0.087117    0.087117   \n",
              "1980-12-17 00:00:00-05:00    0.089273    0.089704    0.089273    0.089273   \n",
              "1980-12-18 00:00:00-05:00    0.091861    0.092292    0.091861    0.091861   \n",
              "...                               ...         ...         ...         ...   \n",
              "2024-02-05 00:00:00-05:00  187.910213  189.008818  185.603160  187.440811   \n",
              "2024-02-06 00:00:00-05:00  186.621869  189.068743  186.531987  189.058762   \n",
              "2024-02-07 00:00:00-05:00  190.397053  190.806534  188.369641  189.168625   \n",
              "2024-02-08 00:00:00-05:00  189.148646  189.298448  187.111252  188.080017   \n",
              "2024-02-09 00:00:00-05:00  188.649994  189.990005  188.000000  188.850006   \n",
              "\n",
              "                              Volume  Dividends  Stock Splits  \n",
              "Date                                                           \n",
              "1980-12-12 00:00:00-05:00  469033600       0.00           0.0  \n",
              "1980-12-15 00:00:00-05:00  175884800       0.00           0.0  \n",
              "1980-12-16 00:00:00-05:00  105728000       0.00           0.0  \n",
              "1980-12-17 00:00:00-05:00   86441600       0.00           0.0  \n",
              "1980-12-18 00:00:00-05:00   73449600       0.00           0.0  \n",
              "...                              ...        ...           ...  \n",
              "2024-02-05 00:00:00-05:00   69668800       0.00           0.0  \n",
              "2024-02-06 00:00:00-05:00   43490800       0.00           0.0  \n",
              "2024-02-07 00:00:00-05:00   53439000       0.00           0.0  \n",
              "2024-02-08 00:00:00-05:00   40962000       0.00           0.0  \n",
              "2024-02-09 00:00:00-05:00   45099900       0.24           0.0  \n",
              "\n",
              "[10881 rows x 7 columns]"
            ],
            "text/html": [
              "\n",
              "  <div id=\"df-4f1dc21e-879d-4ef3-8609-d25748ea8c05\" class=\"colab-df-container\">\n",
              "    <div>\n",
              "<style scoped>\n",
              "    .dataframe tbody tr th:only-of-type {\n",
              "        vertical-align: middle;\n",
              "    }\n",
              "\n",
              "    .dataframe tbody tr th {\n",
              "        vertical-align: top;\n",
              "    }\n",
              "\n",
              "    .dataframe thead th {\n",
              "        text-align: right;\n",
              "    }\n",
              "</style>\n",
              "<table border=\"1\" class=\"dataframe\">\n",
              "  <thead>\n",
              "    <tr style=\"text-align: right;\">\n",
              "      <th></th>\n",
              "      <th>Open</th>\n",
              "      <th>High</th>\n",
              "      <th>Low</th>\n",
              "      <th>Close</th>\n",
              "      <th>Volume</th>\n",
              "      <th>Dividends</th>\n",
              "      <th>Stock Splits</th>\n",
              "    </tr>\n",
              "    <tr>\n",
              "      <th>Date</th>\n",
              "      <th></th>\n",
              "      <th></th>\n",
              "      <th></th>\n",
              "      <th></th>\n",
              "      <th></th>\n",
              "      <th></th>\n",
              "      <th></th>\n",
              "    </tr>\n",
              "  </thead>\n",
              "  <tbody>\n",
              "    <tr>\n",
              "      <th>1980-12-12 00:00:00-05:00</th>\n",
              "      <td>0.099192</td>\n",
              "      <td>0.099623</td>\n",
              "      <td>0.099192</td>\n",
              "      <td>0.099192</td>\n",
              "      <td>469033600</td>\n",
              "      <td>0.00</td>\n",
              "      <td>0.0</td>\n",
              "    </tr>\n",
              "    <tr>\n",
              "      <th>1980-12-15 00:00:00-05:00</th>\n",
              "      <td>0.094448</td>\n",
              "      <td>0.094448</td>\n",
              "      <td>0.094017</td>\n",
              "      <td>0.094017</td>\n",
              "      <td>175884800</td>\n",
              "      <td>0.00</td>\n",
              "      <td>0.0</td>\n",
              "    </tr>\n",
              "    <tr>\n",
              "      <th>1980-12-16 00:00:00-05:00</th>\n",
              "      <td>0.087548</td>\n",
              "      <td>0.087548</td>\n",
              "      <td>0.087117</td>\n",
              "      <td>0.087117</td>\n",
              "      <td>105728000</td>\n",
              "      <td>0.00</td>\n",
              "      <td>0.0</td>\n",
              "    </tr>\n",
              "    <tr>\n",
              "      <th>1980-12-17 00:00:00-05:00</th>\n",
              "      <td>0.089273</td>\n",
              "      <td>0.089704</td>\n",
              "      <td>0.089273</td>\n",
              "      <td>0.089273</td>\n",
              "      <td>86441600</td>\n",
              "      <td>0.00</td>\n",
              "      <td>0.0</td>\n",
              "    </tr>\n",
              "    <tr>\n",
              "      <th>1980-12-18 00:00:00-05:00</th>\n",
              "      <td>0.091861</td>\n",
              "      <td>0.092292</td>\n",
              "      <td>0.091861</td>\n",
              "      <td>0.091861</td>\n",
              "      <td>73449600</td>\n",
              "      <td>0.00</td>\n",
              "      <td>0.0</td>\n",
              "    </tr>\n",
              "    <tr>\n",
              "      <th>...</th>\n",
              "      <td>...</td>\n",
              "      <td>...</td>\n",
              "      <td>...</td>\n",
              "      <td>...</td>\n",
              "      <td>...</td>\n",
              "      <td>...</td>\n",
              "      <td>...</td>\n",
              "    </tr>\n",
              "    <tr>\n",
              "      <th>2024-02-05 00:00:00-05:00</th>\n",
              "      <td>187.910213</td>\n",
              "      <td>189.008818</td>\n",
              "      <td>185.603160</td>\n",
              "      <td>187.440811</td>\n",
              "      <td>69668800</td>\n",
              "      <td>0.00</td>\n",
              "      <td>0.0</td>\n",
              "    </tr>\n",
              "    <tr>\n",
              "      <th>2024-02-06 00:00:00-05:00</th>\n",
              "      <td>186.621869</td>\n",
              "      <td>189.068743</td>\n",
              "      <td>186.531987</td>\n",
              "      <td>189.058762</td>\n",
              "      <td>43490800</td>\n",
              "      <td>0.00</td>\n",
              "      <td>0.0</td>\n",
              "    </tr>\n",
              "    <tr>\n",
              "      <th>2024-02-07 00:00:00-05:00</th>\n",
              "      <td>190.397053</td>\n",
              "      <td>190.806534</td>\n",
              "      <td>188.369641</td>\n",
              "      <td>189.168625</td>\n",
              "      <td>53439000</td>\n",
              "      <td>0.00</td>\n",
              "      <td>0.0</td>\n",
              "    </tr>\n",
              "    <tr>\n",
              "      <th>2024-02-08 00:00:00-05:00</th>\n",
              "      <td>189.148646</td>\n",
              "      <td>189.298448</td>\n",
              "      <td>187.111252</td>\n",
              "      <td>188.080017</td>\n",
              "      <td>40962000</td>\n",
              "      <td>0.00</td>\n",
              "      <td>0.0</td>\n",
              "    </tr>\n",
              "    <tr>\n",
              "      <th>2024-02-09 00:00:00-05:00</th>\n",
              "      <td>188.649994</td>\n",
              "      <td>189.990005</td>\n",
              "      <td>188.000000</td>\n",
              "      <td>188.850006</td>\n",
              "      <td>45099900</td>\n",
              "      <td>0.24</td>\n",
              "      <td>0.0</td>\n",
              "    </tr>\n",
              "  </tbody>\n",
              "</table>\n",
              "<p>10881 rows × 7 columns</p>\n",
              "</div>\n",
              "    <div class=\"colab-df-buttons\">\n",
              "\n",
              "  <div class=\"colab-df-container\">\n",
              "    <button class=\"colab-df-convert\" onclick=\"convertToInteractive('df-4f1dc21e-879d-4ef3-8609-d25748ea8c05')\"\n",
              "            title=\"Convert this dataframe to an interactive table.\"\n",
              "            style=\"display:none;\">\n",
              "\n",
              "  <svg xmlns=\"http://www.w3.org/2000/svg\" height=\"24px\" viewBox=\"0 -960 960 960\">\n",
              "    <path d=\"M120-120v-720h720v720H120Zm60-500h600v-160H180v160Zm220 220h160v-160H400v160Zm0 220h160v-160H400v160ZM180-400h160v-160H180v160Zm440 0h160v-160H620v160ZM180-180h160v-160H180v160Zm440 0h160v-160H620v160Z\"/>\n",
              "  </svg>\n",
              "    </button>\n",
              "\n",
              "  <style>\n",
              "    .colab-df-container {\n",
              "      display:flex;\n",
              "      gap: 12px;\n",
              "    }\n",
              "\n",
              "    .colab-df-convert {\n",
              "      background-color: #E8F0FE;\n",
              "      border: none;\n",
              "      border-radius: 50%;\n",
              "      cursor: pointer;\n",
              "      display: none;\n",
              "      fill: #1967D2;\n",
              "      height: 32px;\n",
              "      padding: 0 0 0 0;\n",
              "      width: 32px;\n",
              "    }\n",
              "\n",
              "    .colab-df-convert:hover {\n",
              "      background-color: #E2EBFA;\n",
              "      box-shadow: 0px 1px 2px rgba(60, 64, 67, 0.3), 0px 1px 3px 1px rgba(60, 64, 67, 0.15);\n",
              "      fill: #174EA6;\n",
              "    }\n",
              "\n",
              "    .colab-df-buttons div {\n",
              "      margin-bottom: 4px;\n",
              "    }\n",
              "\n",
              "    [theme=dark] .colab-df-convert {\n",
              "      background-color: #3B4455;\n",
              "      fill: #D2E3FC;\n",
              "    }\n",
              "\n",
              "    [theme=dark] .colab-df-convert:hover {\n",
              "      background-color: #434B5C;\n",
              "      box-shadow: 0px 1px 3px 1px rgba(0, 0, 0, 0.15);\n",
              "      filter: drop-shadow(0px 1px 2px rgba(0, 0, 0, 0.3));\n",
              "      fill: #FFFFFF;\n",
              "    }\n",
              "  </style>\n",
              "\n",
              "    <script>\n",
              "      const buttonEl =\n",
              "        document.querySelector('#df-4f1dc21e-879d-4ef3-8609-d25748ea8c05 button.colab-df-convert');\n",
              "      buttonEl.style.display =\n",
              "        google.colab.kernel.accessAllowed ? 'block' : 'none';\n",
              "\n",
              "      async function convertToInteractive(key) {\n",
              "        const element = document.querySelector('#df-4f1dc21e-879d-4ef3-8609-d25748ea8c05');\n",
              "        const dataTable =\n",
              "          await google.colab.kernel.invokeFunction('convertToInteractive',\n",
              "                                                    [key], {});\n",
              "        if (!dataTable) return;\n",
              "\n",
              "        const docLinkHtml = 'Like what you see? Visit the ' +\n",
              "          '<a target=\"_blank\" href=https://colab.research.google.com/notebooks/data_table.ipynb>data table notebook</a>'\n",
              "          + ' to learn more about interactive tables.';\n",
              "        element.innerHTML = '';\n",
              "        dataTable['output_type'] = 'display_data';\n",
              "        await google.colab.output.renderOutput(dataTable, element);\n",
              "        const docLink = document.createElement('div');\n",
              "        docLink.innerHTML = docLinkHtml;\n",
              "        element.appendChild(docLink);\n",
              "      }\n",
              "    </script>\n",
              "  </div>\n",
              "\n",
              "\n",
              "<div id=\"df-7c0c8c6c-e082-4829-a1b7-5eee9b676329\">\n",
              "  <button class=\"colab-df-quickchart\" onclick=\"quickchart('df-7c0c8c6c-e082-4829-a1b7-5eee9b676329')\"\n",
              "            title=\"Suggest charts\"\n",
              "            style=\"display:none;\">\n",
              "\n",
              "<svg xmlns=\"http://www.w3.org/2000/svg\" height=\"24px\"viewBox=\"0 0 24 24\"\n",
              "     width=\"24px\">\n",
              "    <g>\n",
              "        <path d=\"M19 3H5c-1.1 0-2 .9-2 2v14c0 1.1.9 2 2 2h14c1.1 0 2-.9 2-2V5c0-1.1-.9-2-2-2zM9 17H7v-7h2v7zm4 0h-2V7h2v10zm4 0h-2v-4h2v4z\"/>\n",
              "    </g>\n",
              "</svg>\n",
              "  </button>\n",
              "\n",
              "<style>\n",
              "  .colab-df-quickchart {\n",
              "      --bg-color: #E8F0FE;\n",
              "      --fill-color: #1967D2;\n",
              "      --hover-bg-color: #E2EBFA;\n",
              "      --hover-fill-color: #174EA6;\n",
              "      --disabled-fill-color: #AAA;\n",
              "      --disabled-bg-color: #DDD;\n",
              "  }\n",
              "\n",
              "  [theme=dark] .colab-df-quickchart {\n",
              "      --bg-color: #3B4455;\n",
              "      --fill-color: #D2E3FC;\n",
              "      --hover-bg-color: #434B5C;\n",
              "      --hover-fill-color: #FFFFFF;\n",
              "      --disabled-bg-color: #3B4455;\n",
              "      --disabled-fill-color: #666;\n",
              "  }\n",
              "\n",
              "  .colab-df-quickchart {\n",
              "    background-color: var(--bg-color);\n",
              "    border: none;\n",
              "    border-radius: 50%;\n",
              "    cursor: pointer;\n",
              "    display: none;\n",
              "    fill: var(--fill-color);\n",
              "    height: 32px;\n",
              "    padding: 0;\n",
              "    width: 32px;\n",
              "  }\n",
              "\n",
              "  .colab-df-quickchart:hover {\n",
              "    background-color: var(--hover-bg-color);\n",
              "    box-shadow: 0 1px 2px rgba(60, 64, 67, 0.3), 0 1px 3px 1px rgba(60, 64, 67, 0.15);\n",
              "    fill: var(--button-hover-fill-color);\n",
              "  }\n",
              "\n",
              "  .colab-df-quickchart-complete:disabled,\n",
              "  .colab-df-quickchart-complete:disabled:hover {\n",
              "    background-color: var(--disabled-bg-color);\n",
              "    fill: var(--disabled-fill-color);\n",
              "    box-shadow: none;\n",
              "  }\n",
              "\n",
              "  .colab-df-spinner {\n",
              "    border: 2px solid var(--fill-color);\n",
              "    border-color: transparent;\n",
              "    border-bottom-color: var(--fill-color);\n",
              "    animation:\n",
              "      spin 1s steps(1) infinite;\n",
              "  }\n",
              "\n",
              "  @keyframes spin {\n",
              "    0% {\n",
              "      border-color: transparent;\n",
              "      border-bottom-color: var(--fill-color);\n",
              "      border-left-color: var(--fill-color);\n",
              "    }\n",
              "    20% {\n",
              "      border-color: transparent;\n",
              "      border-left-color: var(--fill-color);\n",
              "      border-top-color: var(--fill-color);\n",
              "    }\n",
              "    30% {\n",
              "      border-color: transparent;\n",
              "      border-left-color: var(--fill-color);\n",
              "      border-top-color: var(--fill-color);\n",
              "      border-right-color: var(--fill-color);\n",
              "    }\n",
              "    40% {\n",
              "      border-color: transparent;\n",
              "      border-right-color: var(--fill-color);\n",
              "      border-top-color: var(--fill-color);\n",
              "    }\n",
              "    60% {\n",
              "      border-color: transparent;\n",
              "      border-right-color: var(--fill-color);\n",
              "    }\n",
              "    80% {\n",
              "      border-color: transparent;\n",
              "      border-right-color: var(--fill-color);\n",
              "      border-bottom-color: var(--fill-color);\n",
              "    }\n",
              "    90% {\n",
              "      border-color: transparent;\n",
              "      border-bottom-color: var(--fill-color);\n",
              "    }\n",
              "  }\n",
              "</style>\n",
              "\n",
              "  <script>\n",
              "    async function quickchart(key) {\n",
              "      const quickchartButtonEl =\n",
              "        document.querySelector('#' + key + ' button');\n",
              "      quickchartButtonEl.disabled = true;  // To prevent multiple clicks.\n",
              "      quickchartButtonEl.classList.add('colab-df-spinner');\n",
              "      try {\n",
              "        const charts = await google.colab.kernel.invokeFunction(\n",
              "            'suggestCharts', [key], {});\n",
              "      } catch (error) {\n",
              "        console.error('Error during call to suggestCharts:', error);\n",
              "      }\n",
              "      quickchartButtonEl.classList.remove('colab-df-spinner');\n",
              "      quickchartButtonEl.classList.add('colab-df-quickchart-complete');\n",
              "    }\n",
              "    (() => {\n",
              "      let quickchartButtonEl =\n",
              "        document.querySelector('#df-7c0c8c6c-e082-4829-a1b7-5eee9b676329 button');\n",
              "      quickchartButtonEl.style.display =\n",
              "        google.colab.kernel.accessAllowed ? 'block' : 'none';\n",
              "    })();\n",
              "  </script>\n",
              "</div>\n",
              "\n",
              "  <div id=\"id_f1b11b0f-6ecd-414f-b58c-716529b9762f\">\n",
              "    <style>\n",
              "      .colab-df-generate {\n",
              "        background-color: #E8F0FE;\n",
              "        border: none;\n",
              "        border-radius: 50%;\n",
              "        cursor: pointer;\n",
              "        display: none;\n",
              "        fill: #1967D2;\n",
              "        height: 32px;\n",
              "        padding: 0 0 0 0;\n",
              "        width: 32px;\n",
              "      }\n",
              "\n",
              "      .colab-df-generate:hover {\n",
              "        background-color: #E2EBFA;\n",
              "        box-shadow: 0px 1px 2px rgba(60, 64, 67, 0.3), 0px 1px 3px 1px rgba(60, 64, 67, 0.15);\n",
              "        fill: #174EA6;\n",
              "      }\n",
              "\n",
              "      [theme=dark] .colab-df-generate {\n",
              "        background-color: #3B4455;\n",
              "        fill: #D2E3FC;\n",
              "      }\n",
              "\n",
              "      [theme=dark] .colab-df-generate:hover {\n",
              "        background-color: #434B5C;\n",
              "        box-shadow: 0px 1px 3px 1px rgba(0, 0, 0, 0.15);\n",
              "        filter: drop-shadow(0px 1px 2px rgba(0, 0, 0, 0.3));\n",
              "        fill: #FFFFFF;\n",
              "      }\n",
              "    </style>\n",
              "    <button class=\"colab-df-generate\" onclick=\"generateWithVariable('df')\"\n",
              "            title=\"Generate code using this dataframe.\"\n",
              "            style=\"display:none;\">\n",
              "\n",
              "  <svg xmlns=\"http://www.w3.org/2000/svg\" height=\"24px\"viewBox=\"0 0 24 24\"\n",
              "       width=\"24px\">\n",
              "    <path d=\"M7,19H8.4L18.45,9,17,7.55,7,17.6ZM5,21V16.75L18.45,3.32a2,2,0,0,1,2.83,0l1.4,1.43a1.91,1.91,0,0,1,.58,1.4,1.91,1.91,0,0,1-.58,1.4L9.25,21ZM18.45,9,17,7.55Zm-12,3A5.31,5.31,0,0,0,4.9,8.1,5.31,5.31,0,0,0,1,6.5,5.31,5.31,0,0,0,4.9,4.9,5.31,5.31,0,0,0,6.5,1,5.31,5.31,0,0,0,8.1,4.9,5.31,5.31,0,0,0,12,6.5,5.46,5.46,0,0,0,6.5,12Z\"/>\n",
              "  </svg>\n",
              "    </button>\n",
              "    <script>\n",
              "      (() => {\n",
              "      const buttonEl =\n",
              "        document.querySelector('#id_f1b11b0f-6ecd-414f-b58c-716529b9762f button.colab-df-generate');\n",
              "      buttonEl.style.display =\n",
              "        google.colab.kernel.accessAllowed ? 'block' : 'none';\n",
              "\n",
              "      buttonEl.onclick = () => {\n",
              "        google.colab.notebook.generateWithVariable('df');\n",
              "      }\n",
              "      })();\n",
              "    </script>\n",
              "  </div>\n",
              "\n",
              "    </div>\n",
              "  </div>\n"
            ]
          },
          "metadata": {},
          "execution_count": 42
        }
      ],
      "source": [
        "# df.to_csv('AAPL.csv')\n",
        "df"
      ]
    },
    {
      "cell_type": "code",
      "execution_count": null,
      "metadata": {
        "colab": {
          "base_uri": "https://localhost:8080/"
        },
        "id": "sDizZz0vr-Qa",
        "outputId": "756bf200-4f7c-4371-cdd0-a8c8d857b6d9"
      },
      "outputs": [
        {
          "data": {
            "text/plain": [
              "(10881, 8)"
            ]
          },
          "execution_count": 24,
          "metadata": {},
          "output_type": "execute_result"
        }
      ],
      "source": [
        "df=pd.read_csv('AAPL.csv')\n",
        "df.shape"
      ]
    },
    {
      "cell_type": "code",
      "execution_count": null,
      "metadata": {
        "id": "uAMLAW7ksEBT"
      },
      "outputs": [],
      "source": [
        "df1=df.reset_index()['Close']"
      ]
    },
    {
      "cell_type": "code",
      "execution_count": null,
      "metadata": {
        "colab": {
          "base_uri": "https://localhost:8080/"
        },
        "id": "v--uyyjKrQnl",
        "outputId": "7165e6d2-07db-46e8-c123-82cf83cc3a82"
      },
      "outputs": [
        {
          "output_type": "execute_result",
          "data": {
            "text/plain": [
              "0          0.099192\n",
              "1          0.094017\n",
              "2          0.087117\n",
              "3          0.089273\n",
              "4          0.091861\n",
              "            ...    \n",
              "10876    187.440811\n",
              "10877    189.058762\n",
              "10878    189.168625\n",
              "10879    188.080017\n",
              "10880    188.850006\n",
              "Name: Close, Length: 10881, dtype: float64"
            ]
          },
          "metadata": {},
          "execution_count": 7
        }
      ],
      "source": [
        "df1"
      ]
    },
    {
      "cell_type": "code",
      "execution_count": null,
      "metadata": {
        "colab": {
          "base_uri": "https://localhost:8080/",
          "height": 447
        },
        "id": "qvRMoNjFtN9P",
        "outputId": "5f60c207-5e7f-4a23-99aa-24e2bba56052"
      },
      "outputs": [
        {
          "output_type": "execute_result",
          "data": {
            "text/plain": [
              "[<matplotlib.lines.Line2D at 0x78929c920460>]"
            ]
          },
          "metadata": {},
          "execution_count": 8
        },
        {
          "output_type": "display_data",
          "data": {
            "text/plain": [
              "<Figure size 640x480 with 1 Axes>"
            ],
            "image/png": "[encoded data removed]"
          },
          "metadata": {}
        }
      ],
      "source": [
        "import matplotlib.pyplot as plt\n",
        "plt.plot(df1)"
      ]
    },
    {
      "cell_type": "code",
      "execution_count": null,
      "metadata": {
        "colab": {
          "base_uri": "https://localhost:8080/"
        },
        "id": "kRpTnEOytdCV",
        "outputId": "c876fb20-50dc-4edd-f71c-23043713aa44"
      },
      "outputs": [
        {
          "output_type": "execute_result",
          "data": {
            "text/plain": [
              "(10881,)"
            ]
          },
          "metadata": {},
          "execution_count": 9
        }
      ],
      "source": [
        "df1.shape"
      ]
    },
    {
      "cell_type": "code",
      "execution_count": null,
      "metadata": {
        "id": "QX1IKaJgtlE6"
      },
      "outputs": [],
      "source": [
        "from sklearn.preprocessing import MinMaxScaler\n",
        "scaler=MinMaxScaler(feature_range=(0,1))\n",
        "df1=scaler.fit_transform(np.array(df1).reshape(-1,1))"
      ]
    },
    {
      "cell_type": "code",
      "execution_count": null,
      "metadata": {
        "id": "CGVhuwmvuFZz"
      },
      "outputs": [],
      "source": [
        "training_size=int(len(df1)*0.67)\n",
        "test_size=len(df1)-training_size\n",
        "train_data,test_data=df1[0:training_size,:],df1[training_size:len(df1),:1]"
      ]
    },
    {
      "cell_type": "code",
      "execution_count": null,
      "metadata": {
        "colab": {
          "base_uri": "https://localhost:8080/"
        },
        "id": "f1GBK442vZMU",
        "outputId": "392cbdcd-b514-4ff7-8a54-8b3aa9408e46"
      },
      "outputs": [
        {
          "output_type": "execute_result",
          "data": {
            "text/plain": [
              "((7290, 1), (3591, 1))"
            ]
          },
          "metadata": {},
          "execution_count": 12
        }
      ],
      "source": [
        "train_data.shape,test_data.shape"
      ]
    },
    {
      "cell_type": "code",
      "execution_count": null,
      "metadata": {
        "id": "prfMs7y0velB"
      },
      "outputs": [],
      "source": [
        "def create_dataset(dataset,time_step=1):\n",
        "    dataX,dataY=[],[]\n",
        "    for i in range(len(dataset)-time_step-1):\n",
        "        a=dataset[i:(i+time_step),0]\n",
        "        dataX.append(a)\n",
        "        dataY.append(dataset[i+time_step,0])\n",
        "    return np.array(dataX),np.array(dataY)"
      ]
    },
    {
      "cell_type": "code",
      "execution_count": null,
      "metadata": {
        "id": "GRBf_RAzxJBP"
      },
      "outputs": [],
      "source": [
        "time_step=250\n",
        "x_train,y_train=create_dataset(train_data,time_step)\n",
        "x_test,y_test=create_dataset(test_data,time_step)"
      ]
    },
    {
      "cell_type": "code",
      "execution_count": null,
      "metadata": {
        "colab": {
          "base_uri": "https://localhost:8080/"
        },
        "id": "lSjOmi9Oxc1e",
        "outputId": "f708ec76-781b-444e-b291-3597f9e88ee4"
      },
      "outputs": [
        {
          "data": {
            "text/plain": [
              "array([[0.00030958, 0.00028342, 0.00024853, ..., 0.00013953, 0.00014171,\n",
              "        0.00013517],\n",
              "       [0.00028342, 0.00024853, 0.00025943, ..., 0.00014171, 0.00013517,\n",
              "        0.00013735],\n",
              "       [0.00024853, 0.00025943, 0.00027252, ..., 0.00013517, 0.00013735,\n",
              "        0.00013735],\n",
              "       ...,\n",
              "       [0.02779709, 0.02842222, 0.02944628, ..., 0.0143284 , 0.01482821,\n",
              "        0.0142902 ],\n",
              "       [0.02842222, 0.02944628, 0.0301937 , ..., 0.01482821, 0.0142902 ,\n",
              "        0.01439413],\n",
              "       [0.02944628, 0.0301937 , 0.03021663, ..., 0.0142902 , 0.01439413,\n",
              "        0.01343579]])"
            ]
          },
          "execution_count": 36,
          "metadata": {},
          "output_type": "execute_result"
        }
      ],
      "source": [
        "x_train"
      ]
    },
    {
      "cell_type": "code",
      "execution_count": null,
      "metadata": {
        "colab": {
          "base_uri": "https://localhost:8080/"
        },
        "id": "zspMURZ4xi9l",
        "outputId": "002650c4-bead-4ed8-99df-dc38e8d9e200"
      },
      "outputs": [
        {
          "output_type": "execute_result",
          "data": {
            "text/plain": [
              "(7039, 250)"
            ]
          },
          "metadata": {},
          "execution_count": 15
        }
      ],
      "source": [
        "x_train.shape"
      ]
    },
    {
      "cell_type": "code",
      "execution_count": null,
      "metadata": {
        "id": "Js_WTwPqyebb"
      },
      "outputs": [],
      "source": [
        "x_train=x_train.reshape(x_train.shape[0],x_train.shape[1],1)\n",
        "x_test=x_test.reshape(x_test.shape[0],x_test.shape[1],1)"
      ]
    },
    {
      "cell_type": "code",
      "execution_count": null,
      "metadata": {
        "id": "0r-Oaeytyh4u"
      },
      "outputs": [],
      "source": [
        "from tensorflow.keras.models import Sequential\n",
        "from tensorflow.keras.layers import Dense\n",
        "from tensorflow.keras.layers import LSTM,Dropout\n",
        "from tensorflow.keras.callbacks import EarlyStopping"
      ]
    },
    {
      "cell_type": "code",
      "execution_count": null,
      "metadata": {
        "id": "GkS8YHMIz4ED"
      },
      "outputs": [],
      "source": [
        "# model=Sequential()\n",
        "# model.add(LSTM(50,return_sequences=True,input_shape=(250,1)))\n",
        "# model.add(LSTM(50,return_sequences=True))\n",
        "# model.add(LSTM(50))\n",
        "# model.add(Dense(1))\n",
        "# model.compile(loss='mean_squared_error',optimizer='adam')\n",
        "\n",
        "model = Sequential()\n",
        "model.add(LSTM(50, return_sequences=True, input_shape=(250,1)))\n",
        "model.add(Dropout(0.3))\n",
        "model.add(LSTM(50, return_sequences=True))\n",
        "model.add(Dropout(0.3))\n",
        "model.add(LSTM(50))\n",
        "model.add(Dropout(0.3))\n",
        "model.add(Dense(1))\n",
        "model.compile(loss='mean_squared_error', optimizer='adam')"
      ]
    },
    {
      "cell_type": "code",
      "execution_count": null,
      "metadata": {
        "colab": {
          "base_uri": "https://localhost:8080/"
        },
        "id": "i-971kgs0ql4",
        "outputId": "b033eeeb-dbe4-4165-aee7-39f31d752b6f"
      },
      "outputs": [
        {
          "output_type": "stream",
          "name": "stdout",
          "text": [
            "Model: \"sequential_2\"\n",
            "_________________________________________________________________\n",
            " Layer (type)                Output Shape              Param #   \n",
            "=================================================================\n",
            " lstm_4 (LSTM)               (None, 250, 50)           10400     \n",
            "                                                                 \n",
            " dropout_3 (Dropout)         (None, 250, 50)           0         \n",
            "                                                                 \n",
            " lstm_5 (LSTM)               (None, 250, 50)           20200     \n",
            "                                                                 \n",
            " dropout_4 (Dropout)         (None, 250, 50)           0         \n",
            "                                                                 \n",
            " lstm_6 (LSTM)               (None, 50)                20200     \n",
            "                                                                 \n",
            " dropout_5 (Dropout)         (None, 50)                0         \n",
            "                                                                 \n",
            " dense_1 (Dense)             (None, 1)                 51        \n",
            "                                                                 \n",
            "=================================================================\n",
            "Total params: 50851 (198.64 KB)\n",
            "Trainable params: 50851 (198.64 KB)\n",
            "Non-trainable params: 0 (0.00 Byte)\n",
            "_________________________________________________________________\n"
          ]
        }
      ],
      "source": [
        "model.summary()"
      ]
    },
    {
      "cell_type": "code",
      "execution_count": null,
      "metadata": {
        "colab": {
          "base_uri": "https://localhost:8080/"
        },
        "id": "FIFPJwoX0s__",
        "outputId": "b938c754-b693-4629-ef59-7aacf4d62e72"
      },
      "outputs": [
        {
          "output_type": "stream",
          "name": "stdout",
          "text": [
            "Epoch 1/100\n",
            "220/220 [==============================] - 15s 33ms/step - loss: 9.9458e-06 - val_loss: 0.0098\n",
            "Epoch 2/100\n",
            "220/220 [==============================] - 7s 30ms/step - loss: 2.2898e-06 - val_loss: 0.0061\n",
            "Epoch 3/100\n",
            "220/220 [==============================] - 6s 29ms/step - loss: 2.5179e-06 - val_loss: 0.0049\n",
            "Epoch 4/100\n",
            "220/220 [==============================] - 6s 29ms/step - loss: 1.5703e-06 - val_loss: 0.0028\n",
            "Epoch 5/100\n",
            "220/220 [==============================] - 6s 30ms/step - loss: 1.5150e-06 - val_loss: 0.0062\n",
            "Epoch 6/100\n",
            "220/220 [==============================] - 6s 28ms/step - loss: 1.5924e-06 - val_loss: 0.0051\n",
            "Epoch 7/100\n",
            "220/220 [==============================] - 7s 31ms/step - loss: 2.1525e-06 - val_loss: 0.0082\n",
            "Epoch 8/100\n",
            "220/220 [==============================] - 6s 27ms/step - loss: 1.3890e-06 - val_loss: 0.0045\n",
            "Epoch 9/100\n",
            "220/220 [==============================] - 8s 37ms/step - loss: 1.5297e-06 - val_loss: 0.0023\n",
            "Epoch 10/100\n",
            "220/220 [==============================] - 6s 27ms/step - loss: 1.4856e-06 - val_loss: 0.0044\n",
            "Epoch 11/100\n",
            "220/220 [==============================] - 7s 31ms/step - loss: 1.3169e-06 - val_loss: 0.0029\n",
            "Epoch 12/100\n",
            "220/220 [==============================] - 6s 28ms/step - loss: 1.2307e-06 - val_loss: 0.0051\n",
            "Epoch 13/100\n",
            "220/220 [==============================] - 7s 32ms/step - loss: 1.1541e-06 - val_loss: 0.0063\n",
            "Epoch 14/100\n",
            "220/220 [==============================] - 6s 29ms/step - loss: 1.1383e-06 - val_loss: 0.0032\n",
            "Epoch 15/100\n",
            "220/220 [==============================] - 6s 28ms/step - loss: 1.2423e-06 - val_loss: 0.0043\n",
            "Epoch 16/100\n",
            "220/220 [==============================] - 7s 31ms/step - loss: 1.0907e-06 - val_loss: 0.0047\n",
            "Epoch 17/100\n",
            "220/220 [==============================] - 6s 28ms/step - loss: 1.3017e-06 - val_loss: 0.0053\n",
            "Epoch 18/100\n",
            "220/220 [==============================] - 7s 32ms/step - loss: 1.0883e-06 - val_loss: 0.0055\n",
            "Epoch 19/100\n",
            "220/220 [==============================] - 6s 28ms/step - loss: 1.0653e-06 - val_loss: 0.0044\n",
            "Epoch 20/100\n",
            "220/220 [==============================] - 7s 30ms/step - loss: 1.0996e-06 - val_loss: 0.0096\n",
            "Epoch 21/100\n",
            "220/220 [==============================] - 6s 27ms/step - loss: 1.3099e-06 - val_loss: 0.0068\n",
            "Epoch 22/100\n",
            "220/220 [==============================] - 7s 30ms/step - loss: 9.2835e-07 - val_loss: 0.0061\n",
            "Epoch 23/100\n",
            "220/220 [==============================] - 6s 27ms/step - loss: 8.7546e-07 - val_loss: 0.0084\n",
            "Epoch 24/100\n",
            "220/220 [==============================] - 7s 30ms/step - loss: 1.0990e-06 - val_loss: 0.0062\n",
            "Epoch 25/100\n",
            "220/220 [==============================] - 6s 28ms/step - loss: 1.3486e-06 - val_loss: 0.0103\n",
            "Epoch 26/100\n",
            "220/220 [==============================] - 7s 30ms/step - loss: 1.1371e-06 - val_loss: 0.0123\n",
            "Epoch 27/100\n",
            "220/220 [==============================] - 6s 29ms/step - loss: 1.1033e-06 - val_loss: 0.0102\n",
            "Epoch 28/100\n",
            "220/220 [==============================] - 6s 29ms/step - loss: 1.0278e-06 - val_loss: 0.0143\n",
            "Epoch 29/100\n",
            "220/220 [==============================] - 7s 30ms/step - loss: 1.0246e-06 - val_loss: 0.0136\n"
          ]
        },
        {
          "output_type": "execute_result",
          "data": {
            "text/plain": [
              "<keras.src.callbacks.History at 0x7891c97020b0>"
            ]
          },
          "metadata": {},
          "execution_count": 28
        }
      ],
      "source": [
        "# model.fit(x_train,y_train,validation_data=(x_test,y_test),epochs=100,batch_size=64,verbose=1)\n",
        "early_stopping = EarlyStopping(monitor='val_loss', patience=20, restore_best_weights=True)\n",
        "model.fit(x_train, y_train, epochs=100, batch_size=32, validation_data=(x_test, y_test), callbacks=[early_stopping])"
      ]
    },
    {
      "cell_type": "code",
      "execution_count": null,
      "metadata": {
        "colab": {
          "base_uri": "https://localhost:8080/"
        },
        "id": "oWyvAAg91U2Z",
        "outputId": "77eb0570-1566-4e7d-8b61-466473d48af6"
      },
      "outputs": [
        {
          "output_type": "stream",
          "name": "stdout",
          "text": [
            "220/220 [==============================] - 3s 11ms/step\n",
            "105/105 [==============================] - 1s 10ms/step\n"
          ]
        }
      ],
      "source": [
        "train_predict=model.predict(x_train)\n",
        "test_predict=model.predict(x_test)"
      ]
    },
    {
      "cell_type": "code",
      "execution_count": null,
      "metadata": {
        "id": "qE44n5TQ1yYC"
      },
      "outputs": [],
      "source": [
        "train_predict=scaler.inverse_transform(train_predict)\n",
        "test_predict=scaler.inverse_transform(test_predict)"
      ]
    },
    {
      "cell_type": "code",
      "execution_count": null,
      "metadata": {
        "colab": {
          "base_uri": "https://localhost:8080/"
        },
        "id": "VoIIwXmt2HYh",
        "outputId": "4db9eda4-6580-4e67-9f42-2950cd191e99"
      },
      "outputs": [
        {
          "output_type": "execute_result",
          "data": {
            "text/plain": [
              "1.501874569851295"
            ]
          },
          "metadata": {},
          "execution_count": 31
        }
      ],
      "source": [
        "import math\n",
        "from sklearn.metrics import mean_squared_error,accuracy_score\n",
        "math.sqrt(mean_squared_error(y_train,train_predict))"
      ]
    },
    {
      "cell_type": "code",
      "execution_count": null,
      "metadata": {
        "colab": {
          "base_uri": "https://localhost:8080/"
        },
        "id": "ceoeYDYL2fqK",
        "outputId": "0eca0442-a54f-43b9-c496-865ef46d3bb3"
      },
      "outputs": [
        {
          "output_type": "execute_result",
          "data": {
            "text/plain": [
              "75.59603759944173"
            ]
          },
          "metadata": {},
          "execution_count": 32
        }
      ],
      "source": [
        "math.sqrt(mean_squared_error(y_test,test_predict))"
      ]
    },
    {
      "cell_type": "code",
      "execution_count": null,
      "metadata": {
        "colab": {
          "base_uri": "https://localhost:8080/",
          "height": 245
        },
        "id": "hLyr1hU33GCH",
        "outputId": "d4313373-f778-4a46-e4b0-17dc448f906f"
      },
      "outputs": [
        {
          "ename": "ValueError",
          "evalue": "could not broadcast input array from shape (1778,1) into shape (1878,1)",
          "output_type": "error",
          "traceback": [
            "\u001b[0;31m---------------------------------------------------------------------------\u001b[0m",
            "\u001b[0;31mValueError\u001b[0m                                Traceback (most recent call last)",
            "\u001b[0;32m<ipython-input-28-5320812668cc>\u001b[0m in \u001b[0;36m<cell line: 8>\u001b[0;34m()\u001b[0m\n\u001b[1;32m      6\u001b[0m \u001b[0mtestPredictPlot\u001b[0m\u001b[0;34m=\u001b[0m\u001b[0mnp\u001b[0m\u001b[0;34m.\u001b[0m\u001b[0mempty_like\u001b[0m\u001b[0;34m(\u001b[0m\u001b[0mdf1\u001b[0m\u001b[0;34m)\u001b[0m\u001b[0;34m\u001b[0m\u001b[0;34m\u001b[0m\u001b[0m\n\u001b[1;32m      7\u001b[0m \u001b[0mtestPredictPlot\u001b[0m\u001b[0;34m[\u001b[0m\u001b[0;34m:\u001b[0m\u001b[0;34m,\u001b[0m\u001b[0;34m:\u001b[0m\u001b[0;34m]\u001b[0m\u001b[0;34m=\u001b[0m\u001b[0mnp\u001b[0m\u001b[0;34m.\u001b[0m\u001b[0mnan\u001b[0m\u001b[0;34m\u001b[0m\u001b[0;34m\u001b[0m\u001b[0m\n\u001b[0;32m----> 8\u001b[0;31m \u001b[0mtestPredictPlot\u001b[0m\u001b[0;34m[\u001b[0m\u001b[0mlen\u001b[0m\u001b[0;34m(\u001b[0m\u001b[0mtrain_predict\u001b[0m\u001b[0;34m)\u001b[0m\u001b[0;34m+\u001b[0m\u001b[0;34m(\u001b[0m\u001b[0mlook_back\u001b[0m\u001b[0;34m*\u001b[0m\u001b[0;36m2\u001b[0m\u001b[0;34m)\u001b[0m\u001b[0;34m+\u001b[0m\u001b[0;36m1\u001b[0m\u001b[0;34m:\u001b[0m\u001b[0mlen\u001b[0m\u001b[0;34m(\u001b[0m\u001b[0mdf1\u001b[0m\u001b[0;34m)\u001b[0m\u001b[0;34m-\u001b[0m\u001b[0;36m1\u001b[0m\u001b[0;34m,\u001b[0m\u001b[0;34m:\u001b[0m\u001b[0;34m]\u001b[0m\u001b[0;34m=\u001b[0m\u001b[0mtest_predict\u001b[0m\u001b[0;34m\u001b[0m\u001b[0;34m\u001b[0m\u001b[0m\n\u001b[0m\u001b[1;32m      9\u001b[0m \u001b[0;34m\u001b[0m\u001b[0m\n\u001b[1;32m     10\u001b[0m \u001b[0mplt\u001b[0m\u001b[0;34m.\u001b[0m\u001b[0mplot\u001b[0m\u001b[0;34m(\u001b[0m\u001b[0mscaler\u001b[0m\u001b[0;34m.\u001b[0m\u001b[0minverse_transform\u001b[0m\u001b[0;34m(\u001b[0m\u001b[0mdf1\u001b[0m\u001b[0;34m)\u001b[0m\u001b[0;34m)\u001b[0m\u001b[0;34m\u001b[0m\u001b[0;34m\u001b[0m\u001b[0m\n",
            "\u001b[0;31mValueError\u001b[0m: could not broadcast input array from shape (1778,1) into shape (1878,1)"
          ]
        }
      ],
      "source": [
        "look_back=150\n",
        "trainPredictPlot=np.empty_like(df1)\n",
        "trainPredictPlot[:,:]=np.nan\n",
        "trainPredictPlot[look_back:len(train_predict)+look_back,:]=train_predict\n",
        "\n",
        "testPredictPlot=np.empty_like(df1)\n",
        "testPredictPlot[:,:]=np.nan\n",
        "testPredictPlot[len(train_predict)+(look_back*2)+1:len(df1)-1,:]=test_predict\n",
        "\n",
        "plt.plot(scaler.inverse_transform(df1))\n",
        "plt.plot(trainPredictPlot)\n",
        "plt.plot(testPredictPlot)\n",
        "plt.show()"
      ]
    },
    {
      "cell_type": "code",
      "execution_count": null,
      "metadata": {
        "id": "Da7xPWfw40BC"
      },
      "outputs": [],
      "source": [
        "len(test_data)-150"
      ]
    },
    {
      "cell_type": "code",
      "execution_count": null,
      "metadata": {
        "id": "kp6idLkL43P2"
      },
      "outputs": [],
      "source": [
        "x_ip=test_data[1829:].reshape(1,-1)\n",
        "x_ip.shape"
      ]
    },
    {
      "cell_type": "code",
      "execution_count": null,
      "metadata": {
        "id": "Ukku758T5BO0"
      },
      "outputs": [],
      "source": [
        "temp_ip=list(x_ip)\n",
        "temp_ip=temp_ip[0].tolist()"
      ]
    },
    {
      "cell_type": "code",
      "execution_count": null,
      "metadata": {
        "id": "CwLrpOpt5SjV"
      },
      "outputs": [],
      "source": [
        "lst_output=[]\n",
        "n_steps=150\n",
        "i=0\n",
        "while(i<30):\n",
        "  if(len(temp_ip)>150):\n",
        "    x_ip=np.array(temp_ip[1:])\n",
        "    print('{} day input {}'.format(i,x_ip))\n",
        "    x_ip=x_ip.reshape(1,-1)\n",
        "    x_ip=x_ip.reshape((1,n_steps,1))\n",
        "    yhat=model.predict(x_ip,verbose=-1)\n",
        "    print('{} day output {}'.format(i,yhat))\n",
        "    temp_ip.extend(yhat[0].tolist())\n",
        "    temp_ip=temp_ip[1:]\n",
        "    lst_output.extend(yhat.tolist())\n",
        "    i=i+1\n",
        "  else:\n",
        "    x_ip=x_ip.reshape((1,n_steps,1))\n",
        "    yhat=model.predict(x_ip,verbose=-1)\n",
        "    print(yhat[0])\n",
        "    temp_ip.extend(yhat[0].tolist())\n",
        "    print(len(temp_ip))\n",
        "    lst_output.extend(yhat.tolist())\n",
        "    i=i+1\n",
        "print(lst_output)"
      ]
    },
    {
      "cell_type": "code",
      "execution_count": null,
      "metadata": {
        "id": "i0FEJ0vN7mLC"
      },
      "outputs": [],
      "source": [
        "day_new=np.arange(1,101)\n",
        "day_pred=np.arange(101,131)"
      ]
    },
    {
      "cell_type": "code",
      "execution_count": null,
      "metadata": {
        "id": "q_lYMNRE7wDn"
      },
      "outputs": [],
      "source": [
        "len(df1)"
      ]
    },
    {
      "cell_type": "code",
      "execution_count": null,
      "metadata": {
        "id": "QwCOweWC7yAY"
      },
      "outputs": [],
      "source": [
        "df3=df1.tolist()\n",
        "df3.extend(lst_output)\n",
        "len(df3)"
      ]
    },
    {
      "cell_type": "code",
      "execution_count": null,
      "metadata": {
        "id": "GcCoPVG8-FVb"
      },
      "outputs": [],
      "source": [
        "plt.plot(day_new,scaler.inverse_transform(df1[5410:]))\n",
        "plt.plot(day_pred,scaler.inverse_transform(lst_output))\n"
      ]
    },
    {
      "cell_type": "code",
      "execution_count": null,
      "metadata": {
        "id": "5jRRb4Wn-Ma4"
      },
      "outputs": [],
      "source": [
        "df3=df1.tolist()\n",
        "df3.extend(lst_output)\n",
        "plt.plot(df3[5510:])"
      ]
    },
    {
      "cell_type": "code",
      "execution_count": null,
      "metadata": {
        "id": "LrGYdpcA-2U5"
      },
      "outputs": [],
      "source": [
        "df3=scaler.inverse_transform(df3).tolist()"
      ]
    },
    {
      "cell_type": "code",
      "execution_count": null,
      "metadata": {
        "id": "cncddRJy-8_k"
      },
      "outputs": [],
      "source": [
        "plt.plot(df3)"
      ]
    },
    {
      "cell_type": "code",
      "execution_count": null,
      "metadata": {
        "id": "ThoZNWLH_AMd"
      },
      "outputs": [],
      "source": []
    },
    {
      "cell_type": "code",
      "execution_count": null,
      "metadata": {
        "id": "YxS1qmlmeLX_"
      },
      "outputs": [],
      "source": []
    },
    {
      "cell_type": "code",
      "execution_count": null,
      "metadata": {
        "id": "ACiD_us0h4vX"
      },
      "outputs": [],
      "source": []
    },
    {
      "cell_type": "code",
      "execution_count": null,
      "metadata": {
        "id": "DadeNwdBjveJ"
      },
      "outputs": [],
      "source": [
        "import yfinance as yf\n",
        "import numpy as np\n",
        "import pandas as pd\n",
        "from sklearn.preprocessing import MinMaxScaler\n",
        "from keras.models import Sequential\n",
        "from keras.layers import LSTM, Dense, Dropout\n",
        "from keras.callbacks import EarlyStopping\n",
        "# import streamlit as st"
      ]
    },
    {
      "cell_type": "code",
      "execution_count": null,
      "metadata": {
        "id": "47eyzuIPjy1Y",
        "colab": {
          "base_uri": "https://localhost:8080/"
        },
        "outputId": "3228d457-2179-4c31-808e-9c31ecf5f395"
      },
      "outputs": [
        {
          "output_type": "stream",
          "name": "stdout",
          "text": [
            "Requirement already satisfied: yfinance in /usr/local/lib/python3.10/dist-packages (0.2.36)\n",
            "Requirement already satisfied: pandas>=1.3.0 in /usr/local/lib/python3.10/dist-packages (from yfinance) (1.5.3)\n",
            "Requirement already satisfied: numpy>=1.16.5 in /usr/local/lib/python3.10/dist-packages (from yfinance) (1.23.5)\n",
            "Requirement already satisfied: requests>=2.31 in /usr/local/lib/python3.10/dist-packages (from yfinance) (2.31.0)\n",
            "Requirement already satisfied: multitasking>=0.0.7 in /usr/local/lib/python3.10/dist-packages (from yfinance) (0.0.11)\n",
            "Requirement already satisfied: lxml>=4.9.1 in /usr/local/lib/python3.10/dist-packages (from yfinance) (4.9.4)\n",
            "Requirement already satisfied: appdirs>=1.4.4 in /usr/local/lib/python3.10/dist-packages (from yfinance) (1.4.4)\n",
            "Requirement already satisfied: pytz>=2022.5 in /usr/local/lib/python3.10/dist-packages (from yfinance) (2023.4)\n",
            "Requirement already satisfied: frozendict>=2.3.4 in /usr/local/lib/python3.10/dist-packages (from yfinance) (2.4.0)\n",
            "Requirement already satisfied: peewee>=3.16.2 in /usr/local/lib/python3.10/dist-packages (from yfinance) (3.17.1)\n",
            "Requirement already satisfied: beautifulsoup4>=4.11.1 in /usr/local/lib/python3.10/dist-packages (from yfinance) (4.12.3)\n",
            "Requirement already satisfied: html5lib>=1.1 in /usr/local/lib/python3.10/dist-packages (from yfinance) (1.1)\n",
            "Requirement already satisfied: soupsieve>1.2 in /usr/local/lib/python3.10/dist-packages (from beautifulsoup4>=4.11.1->yfinance) (2.5)\n",
            "Requirement already satisfied: six>=1.9 in /usr/local/lib/python3.10/dist-packages (from html5lib>=1.1->yfinance) (1.16.0)\n",
            "Requirement already satisfied: webencodings in /usr/local/lib/python3.10/dist-packages (from html5lib>=1.1->yfinance) (0.5.1)\n",
            "Requirement already satisfied: python-dateutil>=2.8.1 in /usr/local/lib/python3.10/dist-packages (from pandas>=1.3.0->yfinance) (2.8.2)\n",
            "Requirement already satisfied: charset-normalizer<4,>=2 in /usr/local/lib/python3.10/dist-packages (from requests>=2.31->yfinance) (3.3.2)\n",
            "Requirement already satisfied: idna<4,>=2.5 in /usr/local/lib/python3.10/dist-packages (from requests>=2.31->yfinance) (3.6)\n",
            "Requirement already satisfied: urllib3<3,>=1.21.1 in /usr/local/lib/python3.10/dist-packages (from requests>=2.31->yfinance) (2.0.7)\n",
            "Requirement already satisfied: certifi>=2017.4.17 in /usr/local/lib/python3.10/dist-packages (from requests>=2.31->yfinance) (2024.2.2)\n"
          ]
        }
      ],
      "source": [
        "!pip install yfinance"
      ]
    },
    {
      "cell_type": "code",
      "source": [
        "def load_data(company_name, start_date, end_date):\n",
        "    stock = yf.Ticker(company_name)\n",
        "    df = stock.history(start=start_date, end=end_date)\n",
        "    return df"
      ],
      "metadata": {
        "id": "NCsydzLIqmD4"
      },
      "execution_count": null,
      "outputs": []
    },
    {
      "cell_type": "code",
      "source": [
        "def load_data(company_name, start_date, end_date):\n",
        "    stock = yf.Ticker(company_name)\n",
        "    df = stock.history(start=start_date, end=end_date)\n",
        "    return df"
      ],
      "metadata": {
        "id": "aAfBg26yqsVn"
      },
      "execution_count": null,
      "outputs": []
    },
    {
      "cell_type": "code",
      "source": [
        "def preprocess_data(df):\n",
        "    df_close = df.reset_index()['Close']\n",
        "    scaler = MinMaxScaler(feature_range=(0, 1))\n",
        "    df_scaled = scaler.fit_transform(np.array(df_close).reshape(-1, 1))\n",
        "    return df_scaled, scaler"
      ],
      "metadata": {
        "id": "ncjhKZxMqtpD"
      },
      "execution_count": null,
      "outputs": []
    },
    {
      "cell_type": "code",
      "source": [
        "def create_dataset(dataset, time_step=1):\n",
        "    dataX, dataY = [], []\n",
        "    for i in range(len(dataset) - time_step - 1):\n",
        "        a = dataset[i:(i + time_step), 0]\n",
        "        dataX.append(a)\n",
        "        dataY.append(dataset[i + time_step, 0])\n",
        "    return np.array(dataX), np.array(dataY)"
      ],
      "metadata": {
        "id": "ayLfkG8RqvqZ"
      },
      "execution_count": null,
      "outputs": []
    },
    {
      "cell_type": "code",
      "source": [
        "def build_model(input_shape):\n",
        "    model = Sequential()\n",
        "    model.add(LSTM(50, return_sequences=True, input_shape=input_shape))\n",
        "    model.add(Dropout(0.3))\n",
        "    model.add(LSTM(50, return_sequences=True))\n",
        "    model.add(Dropout(0.3))\n",
        "    model.add(LSTM(50))\n",
        "    model.add(Dropout(0.3))\n",
        "    model.add(Dense(1))\n",
        "    model.compile(loss='mean_squared_error', optimizer='adam')\n",
        "    return model"
      ],
      "metadata": {
        "id": "jwSYpoTfqyGF"
      },
      "execution_count": null,
      "outputs": []
    },
    {
      "cell_type": "code",
      "source": [
        "def train_model(model, x_train, y_train, x_test, y_test, epochs=100, batch_size=32):\n",
        "    early_stopping = EarlyStopping(monitor='val_loss', patience=20, restore_best_weights=True)\n",
        "    model.fit(x_train, y_train, epochs=epochs, batch_size=batch_size, validation_data=(x_test, y_test), callbacks=[early_stopping])\n",
        "    return model"
      ],
      "metadata": {
        "id": "GtxSlMyWq5Xz"
      },
      "execution_count": null,
      "outputs": []
    },
    {
      "cell_type": "code",
      "source": [
        "def predict_future_stock_prices(model, last_sequence, n_steps, scaler, n_days):\n",
        "    temp_input = last_sequence.tolist()\n",
        "    lst_output = []\n",
        "\n",
        "    for i in range(n_days):\n",
        "        if len(temp_input) > n_steps:\n",
        "            x_ip = np.array(temp_input[1:])\n",
        "            x_ip = x_ip.reshape(1, -1)\n",
        "            x_ip = x_ip.reshape((1, n_steps, 1))\n",
        "            yhat = model.predict(x_ip, verbose=-1)\n",
        "            temp_input.extend(yhat[0].tolist())\n",
        "            temp_input = temp_input[1:]\n",
        "            lst_output.extend(yhat.tolist())\n",
        "        else:\n",
        "            # x_ip = np.array(temp_input)\n",
        "            x_ip = x_ip.reshape((1, n_steps, 1))\n",
        "            yhat = model.predict(x_ip, verbose=-1)\n",
        "            temp_input.extend(yhat[0].tolist())\n",
        "            lst_output.extend(yhat.tolist())\n",
        "\n",
        "    predicted_stock_prices = scaler.inverse_transform(lst_output)\n",
        "    return predicted_stock_prices"
      ],
      "metadata": {
        "id": "cdynacmGq9VO"
      },
      "execution_count": null,
      "outputs": []
    },
    {
      "cell_type": "code",
      "execution_count": null,
      "metadata": {
        "id": "tyGz8ygfkejg",
        "colab": {
          "base_uri": "https://localhost:8080/"
        },
        "outputId": "9f5da18e-2a61-479f-ff52-29491c01ffcc"
      },
      "outputs": [
        {
          "name": "stdout",
          "output_type": "stream",
          "text": [
            "Stock Price Prediction with LSTM\n",
            "Enter Company Ticker (e.g., AAPL for Apple):msft\n"
          ]
        }
      ],
      "source": [
        "def main():\n",
        "    print(\"Stock Price Prediction with LSTM\")\n",
        "\n",
        "    # Input parameters\n",
        "    company_name = input(\"Enter Company Ticker (e.g., AAPL for Apple):\")\n",
        "    start_date = pd.to_datetime(input(\"Enter Start Date (YYYY-MM-DD):\"))\n",
        "    end_date = pd.to_datetime(input(\"Enter End Date (Leave empty for today):\"))\n",
        "    if not end_date:\n",
        "        end_date = pd.to_datetime(\"today\")\n",
        "\n",
        "    n_days_to_predict = int(input(\"Select Number of Days to Predict:\"))\n",
        "\n",
        "    # Load and preprocess data\n",
        "    df = load_data(company_name, start_date, end_date)\n",
        "    df_scaled, scaler = preprocess_data(df)\n",
        "\n",
        "    # Prepare training and testing data\n",
        "    time_step = 90\n",
        "    x_train, y_train = create_dataset(df_scaled[:int(len(df_scaled) * 0.67)], time_step)\n",
        "    x_test, y_test = create_dataset(df_scaled[int(len(df_scaled) * 0.67):], time_step)\n",
        "\n",
        "    x_train = x_train.reshape(x_train.shape[0], x_train.shape[1], 1)\n",
        "    x_test = x_test.reshape(x_test.shape[0], x_test.shape[1], 1)\n",
        "\n",
        "    # Build and train the model\n",
        "    input_shape = (time_step, 1)\n",
        "    model = build_model(input_shape)\n",
        "    model = train_model(model, x_train, y_train, x_test, y_test)\n",
        "\n",
        "    # Predict future stock prices\n",
        "    last_sequence = df_scaled[-time_step:]\n",
        "    predicted_prices = predict_future_stock_prices(model, last_sequence, time_step, scaler, n_days_to_predict)\n",
        "\n",
        "    # Display the predicted prices\n",
        "    print(\"Predicted Stock Prices:\")\n",
        "    print(pd.DataFrame(predicted_prices, columns=[\"Predicted Prices\"]))\n",
        "\n",
        "# Call the main function\n",
        "if __name__ == \"__main__\":\n",
        "    main()\n"
      ]
    },
    {
      "cell_type": "code",
      "source": [
        "import pytz"
      ],
      "metadata": {
        "id": "8sig8amFqzlj"
      },
      "execution_count": null,
      "outputs": []
    },
    {
      "cell_type": "code",
      "source": [],
      "metadata": {
        "id": "lFSnwwRfsVSe"
      },
      "execution_count": null,
      "outputs": []
    }
  ],
  "metadata": {
    "colab": {
      "provenance": [],
      "gpuType": "T4",
      "authorship_tag": "ABX9TyO+yqFS+vmoKur6cS8CIeve",
      "include_colab_link": true
    },
    "kernelspec": {
      "display_name": "Python 3",
      "name": "python3"
    },
    "language_info": {
      "name": "python"
    },
    "accelerator": "GPU"
  },
  "nbformat": 4,
  "nbformat_minor": 0
}